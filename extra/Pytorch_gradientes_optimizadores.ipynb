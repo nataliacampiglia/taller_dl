{
 "cells": [
  {
   "cell_type": "markdown",
   "id": "0bb4916a",
   "metadata": {},
   "source": [
    "# Entendiendo el Forward Pass, Loss, Backward Pass y Optimización\n",
    "\n",
    "## Introducción\n",
    "\n",
    "En esta notebook aprenderemos los conceptos fundamentales que están en el corazón de cualquier red neuronal:\n",
    "\n",
    "- **Forward Pass**: Cómo fluyen los datos a través de la red\n",
    "- **Función de Pérdida (Loss)**: Cómo medimos qué tan bien (o mal) lo está haciendo nuestro modelo\n",
    "- **Backward Pass**: Cómo calculamos los gradientes para mejorar el modelo\n",
    "- **Optimización**: Cómo actualizamos los parámetros para aprender\n",
    "\n",
    "Utilizaremos el problema clásico **XOR** como ejemplo práctico. Este problema es perfecto para entender estos conceptos porque:\n",
    "1. Es simple de visualizar (solo 4 casos)\n",
    "2. Requiere una red neuronal (no es linealmente separable)\n",
    "3. Nos permite ver claramente cómo aprende la red"
   ]
  },
  {
   "cell_type": "code",
   "execution_count": 1,
   "id": "70ea2a76",
   "metadata": {},
   "outputs": [],
   "source": [
    "import torch\n",
    "import torch.nn as nn\n",
    "import torch.optim as optim\n",
    "import matplotlib.pyplot as plt\n",
    "from torchviz import make_dot"
   ]
  },
  {
   "cell_type": "markdown",
   "id": "ebc766d4",
   "metadata": {},
   "source": [
    "Vamos a resolver XOR paso a paso usando PyTorch.\n",
    "\n",
    "Tabla de verdad XOR:\n",
    "\n",
    "| Entrada 1 | Entrada 2 | Salida (XOR) |\n",
    "|-----------|-----------|--------------|\n",
    "|     0     |     0     |      0       |\n",
    "|     0     |     1     |      1       |\n",
    "|     1     |     0     |      1       |\n",
    "|     1     |     1     |      0       |\n",
    "\n",
    "Este problema es famoso en el mundo de las redes neuronales porque fue uno de los primeros en demostrar las limitaciones del perceptrón simple y la necesidad de redes multicapa.\n"
   ]
  },
  {
   "cell_type": "code",
   "execution_count": 2,
   "id": "06cc9aeb",
   "metadata": {},
   "outputs": [],
   "source": [
    "# Datos para XOR\n",
    "X = torch.tensor([[0, 0], [0, 1], [1, 0], [1, 1]], dtype=torch.float32)\n",
    "y = torch.tensor([[0], [1], [1], [0]], dtype=torch.float32)"
   ]
  },
  {
   "cell_type": "markdown",
   "id": "fe99b894",
   "metadata": {},
   "source": [
    "El problema es que la función XOR no es linealmente separable, lo que significa que no podemos trazar una línea recta que separe las clases de salida. O sea, no existe un modelo lineal que pueda resolver este problema. Para abordar esto, utilizaremos una red neuronal con al menos una capa oculta."
   ]
  },
  {
   "cell_type": "code",
   "execution_count": 3,
   "id": "067722cb",
   "metadata": {},
   "outputs": [],
   "source": [
    "class SimpleXOR(nn.Module):\n",
    "    def __init__(self):\n",
    "        super().__init__()\n",
    "        self.hidden = nn.Linear(2, 4)  # Capa oculta: 2 entradas -> 4 neuronas\n",
    "        self.output = nn.Linear(4, 1)  # Capa salida: 4 neuronas -> 1 salida\n",
    "        \n",
    "    def forward(self, x):\n",
    "        # Guardamos los valores intermedios para poder examinarlos\n",
    "        h = self.hidden(x)  # Transformación lineal: x @ W + b\n",
    "        h_activated = torch.sigmoid(h)  # Activación sigmoid\n",
    "        out = self.output(h_activated)  # Segunda transformación lineal\n",
    "        out_activated = torch.sigmoid(out)  # Activación final\n",
    "        \n",
    "        return  out_activated"
   ]
  },
  {
   "cell_type": "code",
   "execution_count": 4,
   "id": "0541a32e",
   "metadata": {},
   "outputs": [
    {
     "name": "stdout",
     "output_type": "stream",
     "text": [
      "Arquitectura de nuestra red:\n",
      "Input(2) -> Linear(2,4) -> Sigmoid -> Linear(4,1) -> Sigmoid -> Output(1)\n",
      "\n",
      "Parámetros iniciales:\n",
      "Pesos capa oculta (W1):\n",
      "tensor([[ 0.7047, -0.0899],\n",
      "        [ 0.4470,  0.0388],\n",
      "        [-0.1904, -0.5857],\n",
      "        [ 0.4651,  0.3358]])\n",
      "Bias capa oculta (b1):\n",
      "tensor([ 0.3353,  0.5830, -0.5413, -0.2671])\n",
      "Pesos capa salida (W2):\n",
      "tensor([[-0.2826,  0.0004, -0.3152, -0.2397]])\n",
      "Bias capa salida (b2):\n",
      "tensor([-0.4795])\n"
     ]
    }
   ],
   "source": [
    "# Instanciamos la red\n",
    "net = SimpleXOR()\n",
    "\n",
    "print(\"Arquitectura de nuestra red:\")\n",
    "print(\"Input(2) -> Linear(2,4) -> Sigmoid -> Linear(4,1) -> Sigmoid -> Output(1)\")\n",
    "\n",
    "print(\"\\nParámetros iniciales:\")\n",
    "print(\"Pesos capa oculta (W1):\")\n",
    "print(net.hidden.weight.data)\n",
    "print(\"Bias capa oculta (b1):\")\n",
    "print(net.hidden.bias.data)\n",
    "print(\"Pesos capa salida (W2):\")\n",
    "print(net.output.weight.data)\n",
    "print(\"Bias capa salida (b2):\")\n",
    "print(net.output.bias.data)"
   ]
  },
  {
   "cell_type": "markdown",
   "id": "d7d29eaf",
   "metadata": {},
   "source": [
    "## Forward Pass \n",
    "\n",
    "El Forward Pass es el proceso mediante el cual la información se mueve a través de la red neuronal, desde la entrada hasta la salida. Cada operación (multiplicación de matrices, suma, aplicación de funciones de activación) crea nodos en el **grafo computacional**.\n",
    "\n",
    "Este grafo es fundamental porque:\n",
    "- Registra todas las operaciones realizadas\n",
    "- Permite calcular gradientes automáticamente durante el backward pass\n",
    "- Nos ayuda a entender el flujo de datos"
   ]
  },
  {
   "cell_type": "code",
   "execution_count": 5,
   "id": "c8d1bd37",
   "metadata": {},
   "outputs": [
    {
     "data": {
      "image/svg+xml": [
       "<?xml version=\"1.0\" encoding=\"UTF-8\" standalone=\"no\"?>\n",
       "<!DOCTYPE svg PUBLIC \"-//W3C//DTD SVG 1.1//EN\"\n",
       " \"http://www.w3.org/Graphics/SVG/1.1/DTD/svg11.dtd\">\n",
       "<!-- Generated by graphviz version 13.1.1 (20250720.1534)\n",
       " -->\n",
       "<!-- Pages: 1 -->\n",
       "<svg width=\"432pt\" height=\"376pt\"\n",
       " viewBox=\"0.00 0.00 432.00 376.00\" xmlns=\"http://www.w3.org/2000/svg\" xmlns:xlink=\"http://www.w3.org/1999/xlink\">\n",
       "<g id=\"graph0\" class=\"graph\" transform=\"scale(1 1) rotate(0) translate(4 372.25)\">\n",
       "<polygon fill=\"white\" stroke=\"none\" points=\"-4,4 -4,-372.25 428,-372.25 428,4 -4,4\"/>\n",
       "<!-- 140559643487328 -->\n",
       "<g id=\"node1\" class=\"node\">\n",
       "<title>140559643487328</title>\n",
       "<polygon fill=\"#caff70\" stroke=\"black\" points=\"345,-34.25 291,-34.25 291,0 345,0 345,-34.25\"/>\n",
       "<text xml:space=\"preserve\" text-anchor=\"middle\" x=\"318\" y=\"-8.75\" font-family=\"monospace\" font-size=\"10.00\"> ()</text>\n",
       "</g>\n",
       "<!-- 140559651470064 -->\n",
       "<g id=\"node2\" class=\"node\">\n",
       "<title>140559651470064</title>\n",
       "<polygon fill=\"lightgrey\" stroke=\"black\" points=\"362,-92.5 274,-92.5 274,-70.25 362,-70.25 362,-92.5\"/>\n",
       "<text xml:space=\"preserve\" text-anchor=\"middle\" x=\"318\" y=\"-79\" font-family=\"monospace\" font-size=\"10.00\">MulBackward0</text>\n",
       "</g>\n",
       "<!-- 140559651470064&#45;&gt;140559643487328 -->\n",
       "<g id=\"edge11\" class=\"edge\">\n",
       "<title>140559651470064&#45;&gt;140559643487328</title>\n",
       "<path fill=\"none\" stroke=\"black\" d=\"M318,-69.82C318,-63.14 318,-54.17 318,-45.59\"/>\n",
       "<polygon fill=\"black\" stroke=\"black\" points=\"321.5,-45.88 318,-35.88 314.5,-45.88 321.5,-45.88\"/>\n",
       "</g>\n",
       "<!-- 140559641543008 -->\n",
       "<g id=\"node3\" class=\"node\">\n",
       "<title>140559641543008</title>\n",
       "<polygon fill=\"lightgrey\" stroke=\"black\" points=\"306,-150.75 218,-150.75 218,-128.5 306,-128.5 306,-150.75\"/>\n",
       "<text xml:space=\"preserve\" text-anchor=\"middle\" x=\"262\" y=\"-137.25\" font-family=\"monospace\" font-size=\"10.00\">AddBackward0</text>\n",
       "</g>\n",
       "<!-- 140559641543008&#45;&gt;140559651470064 -->\n",
       "<g id=\"edge1\" class=\"edge\">\n",
       "<title>140559641543008&#45;&gt;140559651470064</title>\n",
       "<path fill=\"none\" stroke=\"black\" d=\"M272.53,-128.04C280.12,-120.42 290.56,-109.94 299.52,-100.94\"/>\n",
       "<polygon fill=\"black\" stroke=\"black\" points=\"301.87,-103.54 306.45,-93.98 296.91,-98.6 301.87,-103.54\"/>\n",
       "</g>\n",
       "<!-- 140559641542768 -->\n",
       "<g id=\"node4\" class=\"node\">\n",
       "<title>140559641542768</title>\n",
       "<polygon fill=\"lightgrey\" stroke=\"black\" points=\"203,-216.12 115,-216.12 115,-193.88 203,-193.88 203,-216.12\"/>\n",
       "<text xml:space=\"preserve\" text-anchor=\"middle\" x=\"159\" y=\"-202.62\" font-family=\"monospace\" font-size=\"10.00\">MulBackward0</text>\n",
       "</g>\n",
       "<!-- 140559641542768&#45;&gt;140559641543008 -->\n",
       "<g id=\"edge2\" class=\"edge\">\n",
       "<title>140559641542768&#45;&gt;140559641543008</title>\n",
       "<path fill=\"none\" stroke=\"black\" d=\"M176.01,-193.53C192.11,-183.63 216.54,-168.6 235.25,-157.08\"/>\n",
       "<polygon fill=\"black\" stroke=\"black\" points=\"236.99,-160.12 243.68,-151.9 233.33,-154.16 236.99,-160.12\"/>\n",
       "</g>\n",
       "<!-- 140559641543248 -->\n",
       "<g id=\"node5\" class=\"node\">\n",
       "<title>140559641543248</title>\n",
       "<polygon fill=\"lightgrey\" stroke=\"black\" points=\"100,-288.62 0,-288.62 0,-266.38 100,-266.38 100,-288.62\"/>\n",
       "<text xml:space=\"preserve\" text-anchor=\"middle\" x=\"50\" y=\"-275.12\" font-family=\"monospace\" font-size=\"10.00\">AccumulateGrad</text>\n",
       "</g>\n",
       "<!-- 140559641543248&#45;&gt;140559641542768 -->\n",
       "<g id=\"edge3\" class=\"edge\">\n",
       "<title>140559641543248&#45;&gt;140559641542768</title>\n",
       "<path fill=\"none\" stroke=\"black\" d=\"M66.08,-266.1C83.79,-254.64 112.52,-236.07 133.34,-222.59\"/>\n",
       "<polygon fill=\"black\" stroke=\"black\" points=\"135.08,-225.64 141.58,-217.27 131.28,-219.76 135.08,-225.64\"/>\n",
       "</g>\n",
       "<!-- 140559643486768 -->\n",
       "<g id=\"node6\" class=\"node\">\n",
       "<title>140559643486768</title>\n",
       "<polygon fill=\"lightblue\" stroke=\"black\" points=\"77,-368.25 23,-368.25 23,-331.75 77,-331.75 77,-368.25\"/>\n",
       "<text xml:space=\"preserve\" text-anchor=\"middle\" x=\"50\" y=\"-354.75\" font-family=\"monospace\" font-size=\"10.00\">a</text>\n",
       "<text xml:space=\"preserve\" text-anchor=\"middle\" x=\"50\" y=\"-340.5\" font-family=\"monospace\" font-size=\"10.00\"> ()</text>\n",
       "</g>\n",
       "<!-- 140559643486768&#45;&gt;140559641543248 -->\n",
       "<g id=\"edge4\" class=\"edge\">\n",
       "<title>140559643486768&#45;&gt;140559641543248</title>\n",
       "<path fill=\"none\" stroke=\"black\" d=\"M50,-331.57C50,-322.17 50,-310.47 50,-300.45\"/>\n",
       "<polygon fill=\"black\" stroke=\"black\" points=\"53.5,-300.47 50,-290.47 46.5,-300.47 53.5,-300.47\"/>\n",
       "</g>\n",
       "<!-- 140559641543200 -->\n",
       "<g id=\"node7\" class=\"node\">\n",
       "<title>140559641543200</title>\n",
       "<polygon fill=\"lightgrey\" stroke=\"black\" points=\"218,-288.62 118,-288.62 118,-266.38 218,-266.38 218,-288.62\"/>\n",
       "<text xml:space=\"preserve\" text-anchor=\"middle\" x=\"168\" y=\"-275.12\" font-family=\"monospace\" font-size=\"10.00\">AccumulateGrad</text>\n",
       "</g>\n",
       "<!-- 140559641543200&#45;&gt;140559641542768 -->\n",
       "<g id=\"edge5\" class=\"edge\">\n",
       "<title>140559641543200&#45;&gt;140559641542768</title>\n",
       "<path fill=\"none\" stroke=\"black\" d=\"M166.67,-266.1C165.38,-256 163.39,-240.36 161.75,-227.56\"/>\n",
       "<polygon fill=\"black\" stroke=\"black\" points=\"165.26,-227.42 160.53,-217.95 158.32,-228.31 165.26,-227.42\"/>\n",
       "</g>\n",
       "<!-- 140559643486848 -->\n",
       "<g id=\"node8\" class=\"node\">\n",
       "<title>140559643486848</title>\n",
       "<polygon fill=\"lightblue\" stroke=\"black\" points=\"195,-368.25 141,-368.25 141,-331.75 195,-331.75 195,-368.25\"/>\n",
       "<text xml:space=\"preserve\" text-anchor=\"middle\" x=\"168\" y=\"-354.75\" font-family=\"monospace\" font-size=\"10.00\">c</text>\n",
       "<text xml:space=\"preserve\" text-anchor=\"middle\" x=\"168\" y=\"-340.5\" font-family=\"monospace\" font-size=\"10.00\"> ()</text>\n",
       "</g>\n",
       "<!-- 140559643486848&#45;&gt;140559641543200 -->\n",
       "<g id=\"edge6\" class=\"edge\">\n",
       "<title>140559643486848&#45;&gt;140559641543200</title>\n",
       "<path fill=\"none\" stroke=\"black\" d=\"M168,-331.57C168,-322.17 168,-310.47 168,-300.45\"/>\n",
       "<polygon fill=\"black\" stroke=\"black\" points=\"171.5,-300.47 168,-290.47 164.5,-300.47 171.5,-300.47\"/>\n",
       "</g>\n",
       "<!-- 140559641542912 -->\n",
       "<g id=\"node9\" class=\"node\">\n",
       "<title>140559641542912</title>\n",
       "<polygon fill=\"lightgrey\" stroke=\"black\" points=\"321,-216.12 221,-216.12 221,-193.88 321,-193.88 321,-216.12\"/>\n",
       "<text xml:space=\"preserve\" text-anchor=\"middle\" x=\"271\" y=\"-202.62\" font-family=\"monospace\" font-size=\"10.00\">AccumulateGrad</text>\n",
       "</g>\n",
       "<!-- 140559641542912&#45;&gt;140559641543008 -->\n",
       "<g id=\"edge7\" class=\"edge\">\n",
       "<title>140559641542912&#45;&gt;140559641543008</title>\n",
       "<path fill=\"none\" stroke=\"black\" d=\"M269.51,-193.53C268.31,-185.04 266.57,-172.79 265.07,-162.22\"/>\n",
       "<polygon fill=\"black\" stroke=\"black\" points=\"268.54,-161.8 263.67,-152.39 261.61,-162.79 268.54,-161.8\"/>\n",
       "</g>\n",
       "<!-- 140559643486528 -->\n",
       "<g id=\"node10\" class=\"node\">\n",
       "<title>140559643486528</title>\n",
       "<polygon fill=\"lightblue\" stroke=\"black\" points=\"298,-295.75 244,-295.75 244,-259.25 298,-259.25 298,-295.75\"/>\n",
       "<text xml:space=\"preserve\" text-anchor=\"middle\" x=\"271\" y=\"-282.25\" font-family=\"monospace\" font-size=\"10.00\">b</text>\n",
       "<text xml:space=\"preserve\" text-anchor=\"middle\" x=\"271\" y=\"-268\" font-family=\"monospace\" font-size=\"10.00\"> ()</text>\n",
       "</g>\n",
       "<!-- 140559643486528&#45;&gt;140559641542912 -->\n",
       "<g id=\"edge8\" class=\"edge\">\n",
       "<title>140559643486528&#45;&gt;140559641542912</title>\n",
       "<path fill=\"none\" stroke=\"black\" d=\"M271,-259.07C271,-249.67 271,-237.97 271,-227.95\"/>\n",
       "<polygon fill=\"black\" stroke=\"black\" points=\"274.5,-227.97 271,-217.97 267.5,-227.97 274.5,-227.97\"/>\n",
       "</g>\n",
       "<!-- 140559641543056 -->\n",
       "<g id=\"node11\" class=\"node\">\n",
       "<title>140559641543056</title>\n",
       "<polygon fill=\"lightgrey\" stroke=\"black\" points=\"424,-150.75 324,-150.75 324,-128.5 424,-128.5 424,-150.75\"/>\n",
       "<text xml:space=\"preserve\" text-anchor=\"middle\" x=\"374\" y=\"-137.25\" font-family=\"monospace\" font-size=\"10.00\">AccumulateGrad</text>\n",
       "</g>\n",
       "<!-- 140559641543056&#45;&gt;140559651470064 -->\n",
       "<g id=\"edge9\" class=\"edge\">\n",
       "<title>140559641543056&#45;&gt;140559651470064</title>\n",
       "<path fill=\"none\" stroke=\"black\" d=\"M363.47,-128.04C355.88,-120.42 345.44,-109.94 336.48,-100.94\"/>\n",
       "<polygon fill=\"black\" stroke=\"black\" points=\"339.09,-98.6 329.55,-93.98 334.13,-103.54 339.09,-98.6\"/>\n",
       "</g>\n",
       "<!-- 140559643487008 -->\n",
       "<g id=\"node12\" class=\"node\">\n",
       "<title>140559643487008</title>\n",
       "<polygon fill=\"lightblue\" stroke=\"black\" points=\"401,-223.25 347,-223.25 347,-186.75 401,-186.75 401,-223.25\"/>\n",
       "<text xml:space=\"preserve\" text-anchor=\"middle\" x=\"374\" y=\"-209.75\" font-family=\"monospace\" font-size=\"10.00\">d</text>\n",
       "<text xml:space=\"preserve\" text-anchor=\"middle\" x=\"374\" y=\"-195.5\" font-family=\"monospace\" font-size=\"10.00\"> ()</text>\n",
       "</g>\n",
       "<!-- 140559643487008&#45;&gt;140559641543056 -->\n",
       "<g id=\"edge10\" class=\"edge\">\n",
       "<title>140559643487008&#45;&gt;140559641543056</title>\n",
       "<path fill=\"none\" stroke=\"black\" d=\"M374,-186.35C374,-179.03 374,-170.47 374,-162.74\"/>\n",
       "<polygon fill=\"black\" stroke=\"black\" points=\"377.5,-162.76 374,-152.76 370.5,-162.76 377.5,-162.76\"/>\n",
       "</g>\n",
       "</g>\n",
       "</svg>\n"
      ],
      "text/plain": [
       "<graphviz.graphs.Digraph at 0x7fd6978100b0>"
      ]
     },
     "execution_count": 5,
     "metadata": {},
     "output_type": "execute_result"
    }
   ],
   "source": [
    "a = torch.tensor(5, dtype=torch.float32, requires_grad=True)\n",
    "b = torch.tensor(3, dtype=torch.float32, requires_grad=True)\n",
    "c = torch.tensor(2, dtype=torch.float32, requires_grad=True)\n",
    "d = torch.tensor(1, dtype=torch.float32, requires_grad=True)\n",
    "\n",
    "x = (a * c + b) * d\n",
    "\n",
    "# grafo computacional\n",
    "# Crear visualización\n",
    "dot = make_dot(x, params={\"a\": a, \"b\": b, \"c\": c, \"d\": d})\n",
    "dot"
   ]
  },
  {
   "cell_type": "markdown",
   "id": "6dd5c7bf",
   "metadata": {},
   "source": [
    "Veamos que pasa cuando hacemos un forward pass con nuestro modelo."
   ]
  },
  {
   "cell_type": "code",
   "execution_count": 19,
   "id": "a991f0a6",
   "metadata": {},
   "outputs": [
    {
     "data": {
      "image/svg+xml": [
       "<?xml version=\"1.0\" encoding=\"UTF-8\" standalone=\"no\"?>\n",
       "<!DOCTYPE svg PUBLIC \"-//W3C//DTD SVG 1.1//EN\"\n",
       " \"http://www.w3.org/Graphics/SVG/1.1/DTD/svg11.dtd\">\n",
       "<!-- Generated by graphviz version 13.1.1 (20250720.1534)\n",
       " -->\n",
       "<!-- Pages: 1 -->\n",
       "<svg width=\"348pt\" height=\"507pt\"\n",
       " viewBox=\"0.00 0.00 348.00 507.00\" xmlns=\"http://www.w3.org/2000/svg\" xmlns:xlink=\"http://www.w3.org/1999/xlink\">\n",
       "<g id=\"graph0\" class=\"graph\" transform=\"scale(1 1) rotate(0) translate(4 503)\">\n",
       "<polygon fill=\"white\" stroke=\"none\" points=\"-4,4 -4,-503 344,-503 344,4 -4,4\"/>\n",
       "<!-- 140559392691600 -->\n",
       "<g id=\"node1\" class=\"node\">\n",
       "<title>140559392691600</title>\n",
       "<polygon fill=\"#caff70\" stroke=\"black\" points=\"203,-34.25 145,-34.25 145,0 203,0 203,-34.25\"/>\n",
       "<text xml:space=\"preserve\" text-anchor=\"middle\" x=\"174\" y=\"-8.75\" font-family=\"monospace\" font-size=\"10.00\"> (4, 1)</text>\n",
       "</g>\n",
       "<!-- 140559396848352 -->\n",
       "<g id=\"node2\" class=\"node\">\n",
       "<title>140559396848352</title>\n",
       "<polygon fill=\"lightgrey\" stroke=\"black\" points=\"230,-92.5 118,-92.5 118,-70.25 230,-70.25 230,-92.5\"/>\n",
       "<text xml:space=\"preserve\" text-anchor=\"middle\" x=\"174\" y=\"-79\" font-family=\"monospace\" font-size=\"10.00\">SigmoidBackward0</text>\n",
       "</g>\n",
       "<!-- 140559396848352&#45;&gt;140559392691600 -->\n",
       "<g id=\"edge14\" class=\"edge\">\n",
       "<title>140559396848352&#45;&gt;140559392691600</title>\n",
       "<path fill=\"none\" stroke=\"black\" d=\"M174,-69.82C174,-63.14 174,-54.17 174,-45.59\"/>\n",
       "<polygon fill=\"black\" stroke=\"black\" points=\"177.5,-45.88 174,-35.88 170.5,-45.88 177.5,-45.88\"/>\n",
       "</g>\n",
       "<!-- 140559396763200 -->\n",
       "<g id=\"node3\" class=\"node\">\n",
       "<title>140559396763200</title>\n",
       "<polygon fill=\"lightgrey\" stroke=\"black\" points=\"224,-150.75 124,-150.75 124,-128.5 224,-128.5 224,-150.75\"/>\n",
       "<text xml:space=\"preserve\" text-anchor=\"middle\" x=\"174\" y=\"-137.25\" font-family=\"monospace\" font-size=\"10.00\">AddmmBackward0</text>\n",
       "</g>\n",
       "<!-- 140559396763200&#45;&gt;140559396848352 -->\n",
       "<g id=\"edge1\" class=\"edge\">\n",
       "<title>140559396763200&#45;&gt;140559396848352</title>\n",
       "<path fill=\"none\" stroke=\"black\" d=\"M174,-128.04C174,-121.37 174,-112.49 174,-104.34\"/>\n",
       "<polygon fill=\"black\" stroke=\"black\" points=\"177.5,-104.42 174,-94.42 170.5,-104.42 177.5,-104.42\"/>\n",
       "</g>\n",
       "<!-- 140559396761904 -->\n",
       "<g id=\"node4\" class=\"node\">\n",
       "<title>140559396761904</title>\n",
       "<polygon fill=\"lightgrey\" stroke=\"black\" points=\"100,-209 0,-209 0,-186.75 100,-186.75 100,-209\"/>\n",
       "<text xml:space=\"preserve\" text-anchor=\"middle\" x=\"50\" y=\"-195.5\" font-family=\"monospace\" font-size=\"10.00\">AccumulateGrad</text>\n",
       "</g>\n",
       "<!-- 140559396761904&#45;&gt;140559396763200 -->\n",
       "<g id=\"edge2\" class=\"edge\">\n",
       "<title>140559396761904&#45;&gt;140559396763200</title>\n",
       "<path fill=\"none\" stroke=\"black\" d=\"M73.32,-186.29C92.29,-177.69 119.29,-165.44 140.56,-155.79\"/>\n",
       "<polygon fill=\"black\" stroke=\"black\" points=\"141.74,-159.1 149.4,-151.78 138.85,-152.73 141.74,-159.1\"/>\n",
       "</g>\n",
       "<!-- 140559398071712 -->\n",
       "<g id=\"node5\" class=\"node\">\n",
       "<title>140559398071712</title>\n",
       "<polygon fill=\"lightblue\" stroke=\"black\" points=\"91,-281.5 9,-281.5 9,-245 91,-245 91,-281.5\"/>\n",
       "<text xml:space=\"preserve\" text-anchor=\"middle\" x=\"50\" y=\"-268\" font-family=\"monospace\" font-size=\"10.00\">output.bias</text>\n",
       "<text xml:space=\"preserve\" text-anchor=\"middle\" x=\"50\" y=\"-253.75\" font-family=\"monospace\" font-size=\"10.00\"> (1)</text>\n",
       "</g>\n",
       "<!-- 140559398071712&#45;&gt;140559396761904 -->\n",
       "<g id=\"edge3\" class=\"edge\">\n",
       "<title>140559398071712&#45;&gt;140559396761904</title>\n",
       "<path fill=\"none\" stroke=\"black\" d=\"M50,-244.6C50,-237.28 50,-228.72 50,-220.99\"/>\n",
       "<polygon fill=\"black\" stroke=\"black\" points=\"53.5,-221.01 50,-211.01 46.5,-221.01 53.5,-221.01\"/>\n",
       "</g>\n",
       "<!-- 140559396763536 -->\n",
       "<g id=\"node6\" class=\"node\">\n",
       "<title>140559396763536</title>\n",
       "<polygon fill=\"lightgrey\" stroke=\"black\" points=\"230,-209 118,-209 118,-186.75 230,-186.75 230,-209\"/>\n",
       "<text xml:space=\"preserve\" text-anchor=\"middle\" x=\"174\" y=\"-195.5\" font-family=\"monospace\" font-size=\"10.00\">SigmoidBackward0</text>\n",
       "</g>\n",
       "<!-- 140559396763536&#45;&gt;140559396763200 -->\n",
       "<g id=\"edge4\" class=\"edge\">\n",
       "<title>140559396763536&#45;&gt;140559396763200</title>\n",
       "<path fill=\"none\" stroke=\"black\" d=\"M174,-186.29C174,-179.62 174,-170.74 174,-162.59\"/>\n",
       "<polygon fill=\"black\" stroke=\"black\" points=\"177.5,-162.67 174,-152.67 170.5,-162.67 177.5,-162.67\"/>\n",
       "</g>\n",
       "<!-- 140559397863328 -->\n",
       "<g id=\"node7\" class=\"node\">\n",
       "<title>140559397863328</title>\n",
       "<polygon fill=\"lightgrey\" stroke=\"black\" points=\"222,-274.38 122,-274.38 122,-252.12 222,-252.12 222,-274.38\"/>\n",
       "<text xml:space=\"preserve\" text-anchor=\"middle\" x=\"172\" y=\"-260.88\" font-family=\"monospace\" font-size=\"10.00\">AddmmBackward0</text>\n",
       "</g>\n",
       "<!-- 140559397863328&#45;&gt;140559396763536 -->\n",
       "<g id=\"edge5\" class=\"edge\">\n",
       "<title>140559397863328&#45;&gt;140559396763536</title>\n",
       "<path fill=\"none\" stroke=\"black\" d=\"M172.33,-251.78C172.6,-243.29 172.98,-231.04 173.32,-220.47\"/>\n",
       "<polygon fill=\"black\" stroke=\"black\" points=\"176.81,-220.76 173.63,-210.66 169.81,-220.54 176.81,-220.76\"/>\n",
       "</g>\n",
       "<!-- 140559396763344 -->\n",
       "<g id=\"node8\" class=\"node\">\n",
       "<title>140559396763344</title>\n",
       "<polygon fill=\"lightgrey\" stroke=\"black\" points=\"122,-346.88 22,-346.88 22,-324.62 122,-324.62 122,-346.88\"/>\n",
       "<text xml:space=\"preserve\" text-anchor=\"middle\" x=\"72\" y=\"-333.38\" font-family=\"monospace\" font-size=\"10.00\">AccumulateGrad</text>\n",
       "</g>\n",
       "<!-- 140559396763344&#45;&gt;140559397863328 -->\n",
       "<g id=\"edge6\" class=\"edge\">\n",
       "<title>140559396763344&#45;&gt;140559397863328</title>\n",
       "<path fill=\"none\" stroke=\"black\" d=\"M86.76,-324.35C102.86,-313 128.88,-294.65 147.94,-281.21\"/>\n",
       "<polygon fill=\"black\" stroke=\"black\" points=\"149.79,-284.19 155.95,-275.57 145.76,-278.47 149.79,-284.19\"/>\n",
       "</g>\n",
       "<!-- 140559398071632 -->\n",
       "<g id=\"node9\" class=\"node\">\n",
       "<title>140559398071632</title>\n",
       "<polygon fill=\"lightblue\" stroke=\"black\" points=\"112,-426.5 30,-426.5 30,-390 112,-390 112,-426.5\"/>\n",
       "<text xml:space=\"preserve\" text-anchor=\"middle\" x=\"71\" y=\"-413\" font-family=\"monospace\" font-size=\"10.00\">hidden.bias</text>\n",
       "<text xml:space=\"preserve\" text-anchor=\"middle\" x=\"71\" y=\"-398.75\" font-family=\"monospace\" font-size=\"10.00\"> (4)</text>\n",
       "</g>\n",
       "<!-- 140559398071632&#45;&gt;140559396763344 -->\n",
       "<g id=\"edge7\" class=\"edge\">\n",
       "<title>140559398071632&#45;&gt;140559396763344</title>\n",
       "<path fill=\"none\" stroke=\"black\" d=\"M71.25,-389.82C71.38,-380.42 71.55,-368.72 71.69,-358.7\"/>\n",
       "<polygon fill=\"black\" stroke=\"black\" points=\"75.19,-358.77 71.83,-348.72 68.19,-358.67 75.19,-358.77\"/>\n",
       "</g>\n",
       "<!-- 140559396765504 -->\n",
       "<g id=\"node10\" class=\"node\">\n",
       "<title>140559396765504</title>\n",
       "<polygon fill=\"lightgrey\" stroke=\"black\" points=\"217,-346.88 141,-346.88 141,-324.62 217,-324.62 217,-346.88\"/>\n",
       "<text xml:space=\"preserve\" text-anchor=\"middle\" x=\"179\" y=\"-333.38\" font-family=\"monospace\" font-size=\"10.00\">TBackward0</text>\n",
       "</g>\n",
       "<!-- 140559396765504&#45;&gt;140559397863328 -->\n",
       "<g id=\"edge8\" class=\"edge\">\n",
       "<title>140559396765504&#45;&gt;140559397863328</title>\n",
       "<path fill=\"none\" stroke=\"black\" d=\"M177.97,-324.35C176.96,-314.25 175.41,-298.61 174.14,-285.81\"/>\n",
       "<polygon fill=\"black\" stroke=\"black\" points=\"177.66,-285.81 173.19,-276.2 170.69,-286.5 177.66,-285.81\"/>\n",
       "</g>\n",
       "<!-- 140559396763824 -->\n",
       "<g id=\"node11\" class=\"node\">\n",
       "<title>140559396763824</title>\n",
       "<polygon fill=\"lightgrey\" stroke=\"black\" points=\"230,-419.38 130,-419.38 130,-397.12 230,-397.12 230,-419.38\"/>\n",
       "<text xml:space=\"preserve\" text-anchor=\"middle\" x=\"180\" y=\"-405.88\" font-family=\"monospace\" font-size=\"10.00\">AccumulateGrad</text>\n",
       "</g>\n",
       "<!-- 140559396763824&#45;&gt;140559396765504 -->\n",
       "<g id=\"edge9\" class=\"edge\">\n",
       "<title>140559396763824&#45;&gt;140559396765504</title>\n",
       "<path fill=\"none\" stroke=\"black\" d=\"M179.85,-396.85C179.71,-386.75 179.49,-371.11 179.31,-358.31\"/>\n",
       "<polygon fill=\"black\" stroke=\"black\" points=\"182.81,-358.66 179.17,-348.71 175.81,-358.76 182.81,-358.66\"/>\n",
       "</g>\n",
       "<!-- 140559641628896 -->\n",
       "<g id=\"node12\" class=\"node\">\n",
       "<title>140559641628896</title>\n",
       "<polygon fill=\"lightblue\" stroke=\"black\" points=\"227,-499 133,-499 133,-462.5 227,-462.5 227,-499\"/>\n",
       "<text xml:space=\"preserve\" text-anchor=\"middle\" x=\"180\" y=\"-485.5\" font-family=\"monospace\" font-size=\"10.00\">hidden.weight</text>\n",
       "<text xml:space=\"preserve\" text-anchor=\"middle\" x=\"180\" y=\"-471.25\" font-family=\"monospace\" font-size=\"10.00\"> (4, 2)</text>\n",
       "</g>\n",
       "<!-- 140559641628896&#45;&gt;140559396763824 -->\n",
       "<g id=\"edge10\" class=\"edge\">\n",
       "<title>140559641628896&#45;&gt;140559396763824</title>\n",
       "<path fill=\"none\" stroke=\"black\" d=\"M180,-462.32C180,-452.92 180,-441.22 180,-431.2\"/>\n",
       "<polygon fill=\"black\" stroke=\"black\" points=\"183.5,-431.22 180,-421.22 176.5,-431.22 183.5,-431.22\"/>\n",
       "</g>\n",
       "<!-- 140559396756432 -->\n",
       "<g id=\"node13\" class=\"node\">\n",
       "<title>140559396756432</title>\n",
       "<polygon fill=\"lightgrey\" stroke=\"black\" points=\"325,-209 249,-209 249,-186.75 325,-186.75 325,-209\"/>\n",
       "<text xml:space=\"preserve\" text-anchor=\"middle\" x=\"287\" y=\"-195.5\" font-family=\"monospace\" font-size=\"10.00\">TBackward0</text>\n",
       "</g>\n",
       "<!-- 140559396756432&#45;&gt;140559396763200 -->\n",
       "<g id=\"edge11\" class=\"edge\">\n",
       "<title>140559396756432&#45;&gt;140559396763200</title>\n",
       "<path fill=\"none\" stroke=\"black\" d=\"M265.75,-186.29C248.7,-177.81 224.53,-165.78 205.27,-156.19\"/>\n",
       "<polygon fill=\"black\" stroke=\"black\" points=\"207.03,-153.16 196.51,-151.83 203.91,-159.42 207.03,-153.16\"/>\n",
       "</g>\n",
       "<!-- 140559396761568 -->\n",
       "<g id=\"node14\" class=\"node\">\n",
       "<title>140559396761568</title>\n",
       "<polygon fill=\"lightgrey\" stroke=\"black\" points=\"340,-274.38 240,-274.38 240,-252.12 340,-252.12 340,-274.38\"/>\n",
       "<text xml:space=\"preserve\" text-anchor=\"middle\" x=\"290\" y=\"-260.88\" font-family=\"monospace\" font-size=\"10.00\">AccumulateGrad</text>\n",
       "</g>\n",
       "<!-- 140559396761568&#45;&gt;140559396756432 -->\n",
       "<g id=\"edge12\" class=\"edge\">\n",
       "<title>140559396761568&#45;&gt;140559396756432</title>\n",
       "<path fill=\"none\" stroke=\"black\" d=\"M289.5,-251.78C289.1,-243.29 288.52,-231.04 288.02,-220.47\"/>\n",
       "<polygon fill=\"black\" stroke=\"black\" points=\"291.53,-220.48 287.56,-210.66 284.53,-220.81 291.53,-220.48\"/>\n",
       "</g>\n",
       "<!-- 140559641633136 -->\n",
       "<g id=\"node15\" class=\"node\">\n",
       "<title>140559641633136</title>\n",
       "<polygon fill=\"lightblue\" stroke=\"black\" points=\"337,-354 243,-354 243,-317.5 337,-317.5 337,-354\"/>\n",
       "<text xml:space=\"preserve\" text-anchor=\"middle\" x=\"290\" y=\"-340.5\" font-family=\"monospace\" font-size=\"10.00\">output.weight</text>\n",
       "<text xml:space=\"preserve\" text-anchor=\"middle\" x=\"290\" y=\"-326.25\" font-family=\"monospace\" font-size=\"10.00\"> (1, 4)</text>\n",
       "</g>\n",
       "<!-- 140559641633136&#45;&gt;140559396761568 -->\n",
       "<g id=\"edge13\" class=\"edge\">\n",
       "<title>140559641633136&#45;&gt;140559396761568</title>\n",
       "<path fill=\"none\" stroke=\"black\" d=\"M290,-317.32C290,-307.92 290,-296.22 290,-286.2\"/>\n",
       "<polygon fill=\"black\" stroke=\"black\" points=\"293.5,-286.22 290,-276.22 286.5,-286.22 293.5,-286.22\"/>\n",
       "</g>\n",
       "</g>\n",
       "</svg>\n"
      ],
      "text/plain": [
       "<graphviz.graphs.Digraph at 0x7fd688e9f200>"
      ]
     },
     "execution_count": 19,
     "metadata": {},
     "output_type": "execute_result"
    }
   ],
   "source": [
    "y_hat = net(X)\n",
    "\n",
    "dot = make_dot(y_hat, params=dict(list(net.named_parameters())))\n",
    "dot"
   ]
  },
  {
   "cell_type": "markdown",
   "id": "b2b21234",
   "metadata": {},
   "source": [
    "- AddmmBackward0 = Capas lineales (nn.Linear) -> [torch.addmm](https://docs.pytorch.org/docs/stable/generated/torch.addmm.html)\n",
    "- SigmoidBackward0 = Funciones de activación [torch.sigmoid](https://docs.pytorch.org/docs/stable/generated/torch.sigmoid.html)\n",
    "- TBackward0 = Transposiciones automáticas internas. [torch.transpose](https://pytorch.org/docs/stable/generated/torch.transpose.html)\n",
    "- AccumulateGrad = Donde se almacenan gradientes de parámetros como pesos y bias. [torch.Tensor.backward](https://pytorch.org/docs/stable/generated/torch.Tensor.backward.html)"
   ]
  },
  {
   "cell_type": "markdown",
   "id": "1265cf6e",
   "metadata": {},
   "source": [
    "> Tener en cuenta que podemos usar `.detach()` para separar un tensor de su grafo de computación."
   ]
  },
  {
   "cell_type": "code",
   "execution_count": 7,
   "id": "97959c7b",
   "metadata": {},
   "outputs": [
    {
     "name": "stdout",
     "output_type": "stream",
     "text": [
      "Vamos a hacer forward pass con el primer ejemplo [0, 0]:\n",
      "\n",
      "PASO A PASO:\n",
      "1. Entrada: tensor([[0., 0.]])\n",
      "2. Capa oculta (antes sigmoid): tensor([[ 0.3353,  0.5830, -0.5413, -0.2671]], grad_fn=<AddmmBackward0>)\n",
      "3. Capa oculta (después sigmoid): tensor([[0.5830, 0.6418, 0.3679, 0.4336]], grad_fn=<SigmoidBackward0>)\n",
      "4. Capa salida (antes sigmoid): tensor([[-0.8639]], grad_fn=<AddmmBackward0>)\n",
      "5. Salida final (después sigmoid): tensor([[0.2965]], grad_fn=<SigmoidBackward0>)\n",
      "\n",
      "El valor esperado era: 0.0\n",
      "Nuestro modelo predijo: 0.2965\n",
      "Error: 0.2965\n"
     ]
    }
   ],
   "source": [
    "print(\"Vamos a hacer forward pass con el primer ejemplo [0, 0]:\")\n",
    "input_sample = X[0].unsqueeze(0)  # Tomamos primera fila y mantenemos dimensiones\n",
    "\n",
    "# Forward pass detallado\n",
    "output = net(input_sample)\n",
    "\n",
    "print(f\"\\nPASO A PASO:\")\n",
    "print(f\"1. Entrada: {input_sample}\")\n",
    "\n",
    "print(f\"2. Capa oculta (antes sigmoid): {net.hidden(input_sample)}\")\n",
    "print(f\"3. Capa oculta (después sigmoid): {torch.sigmoid(net.hidden(input_sample))}\")\n",
    "print(f\"4. Capa salida (antes sigmoid): {net.output(torch.sigmoid(net.hidden(input_sample)))}\")\n",
    "print(f\"5. Salida final (después sigmoid): {torch.sigmoid(net.output(torch.sigmoid(net.hidden(input_sample))))}\")\n",
    "\n",
    "print(f\"\\nEl valor esperado era: {y[0].item()}\")\n",
    "print(f\"Nuestro modelo predijo: {output.item():.4f}\")\n",
    "print(f\"Error: {abs(y[0].item() - output.item()):.4f}\")"
   ]
  },
  {
   "cell_type": "markdown",
   "id": "7159061c",
   "metadata": {},
   "source": [
    "## Función de Pérdida (loss)\n",
    "\n",
    "Dependiendo el tipo de problema y características de los datos, se pueden utilizar diferentes funciones de pérdida. Algunas de las más comunes son:\n",
    "\n",
    "1. **Error Cuadrático Medio (MSE)**: Comúnmente utilizado en problemas de regresión.\n",
    "2. **Error Absoluto Medio (MAE)**: También utilizado en problemas de regresión, es menos sensible a valores atípicos (outliers) que el MSE.\n",
    "3. ...\n",
    "\n",
    "\n",
    "La elección de la función de pérdida puede afectar significativamente el rendimiento del modelo."
   ]
  },
  {
   "cell_type": "code",
   "execution_count": 8,
   "id": "68448f46",
   "metadata": {},
   "outputs": [
    {
     "name": "stdout",
     "output_type": "stream",
     "text": [
      "Predicciones para todos los ejemplos:\n",
      "Entrada: tensor([0., 0.]), Esperado: tensor([0.]), Predicho: tensor([0.2965], grad_fn=<SelectBackward0>)\n",
      "Entrada: tensor([0., 1.]), Esperado: tensor([1.]), Predicho: tensor([0.3018], grad_fn=<SelectBackward0>)\n",
      "Entrada: tensor([1., 0.]), Esperado: tensor([1.]), Predicho: tensor([0.2845], grad_fn=<SelectBackward0>)\n",
      "Entrada: tensor([1., 1.]), Esperado: tensor([0.]), Predicho: tensor([0.2889], grad_fn=<SelectBackward0>)\n"
     ]
    }
   ],
   "source": [
    "output  = net(X)\n",
    "print(\"Predicciones para todos los ejemplos:\")\n",
    "for i in range(len(X)):\n",
    "    print(f\"Entrada: {X[i]}, Esperado: {y[i]}, Predicho: {output[i]}\")"
   ]
  },
  {
   "cell_type": "markdown",
   "id": "a03a22db",
   "metadata": {},
   "source": [
    "Calculemos el error (MSE) a mano primero"
   ]
  },
  {
   "cell_type": "code",
   "execution_count": 9,
   "id": "00c5b237",
   "metadata": {},
   "outputs": [
    {
     "name": "stdout",
     "output_type": "stream",
     "text": [
      "MSE calculado manualmente: 0.2927\n"
     ]
    }
   ],
   "source": [
    "# Calculamos Mean Squared Error manualmente\n",
    "mse_manual = torch.mean((output - y) ** 2)\n",
    "print(f\"MSE calculado manualmente: {mse_manual.item():.4f}\")"
   ]
  },
  {
   "cell_type": "code",
   "execution_count": 10,
   "id": "a4100a19",
   "metadata": {},
   "outputs": [
    {
     "name": "stdout",
     "output_type": "stream",
     "text": [
      "MSE con función de PyTorch: 0.2927\n"
     ]
    }
   ],
   "source": [
    "# Comparamos con la función predefinida\n",
    "mse_builtin = nn.MSELoss()(output, y)\n",
    "print(f\"MSE con función de PyTorch: {mse_builtin.item():.4f}\")"
   ]
  },
  {
   "cell_type": "markdown",
   "id": "e1c59d6b",
   "metadata": {},
   "source": [
    "## Backward Pass - Entendiendo los Gradientes\n",
    "\n",
    "El backward pass es donde ocurre la \"magia\" del aprendizaje. Durante este proceso:\n",
    "\n",
    "1. **Calculamos gradientes**: Determinamos cómo cambiar cada parámetro para reducir la pérdida\n",
    "2. **Propagamos hacia atrás**: Los gradientes se propagan desde la salida hacia la entrada\n",
    "3. **Acumulamos gradientes**: Los gradientes se almacenan en cada parámetro\n",
    "\n",
    "Los gradientes nos dicen:\n",
    "- **Dirección**: En qué dirección mover el parámetro (positiva o negativa)\n",
    "- **Magnitud**: Qué tanto mover el parámetro"
   ]
  },
  {
   "cell_type": "code",
   "execution_count": 11,
   "id": "f1ec8c82",
   "metadata": {},
   "outputs": [
    {
     "name": "stdout",
     "output_type": "stream",
     "text": [
      "Loss actual: 0.2927\n",
      "\n",
      "ANTES del backward pass:\n",
      "Gradientes de los parámetros (deben ser None):\n",
      "∇W1: None\n",
      "∇b1: None\n",
      "∇W2: None\n",
      "∇b2: None\n",
      "\n",
      "DESPUÉS del backward pass:\n",
      "Gradientes calculados automáticamente:\n",
      "∇W1 (gradiente pesos capa oculta):\n",
      "tensor([[ 2.2841e-03,  3.4323e-03],\n",
      "        [-3.5709e-06, -4.6678e-06],\n",
      "        [ 3.4755e-03,  2.7268e-03],\n",
      "        [ 2.6637e-03,  2.7450e-03]])\n",
      "∇b1 (gradiente bias capa oculta):\n",
      "tensor([ 5.2783e-03, -7.6220e-06,  5.4940e-03,  5.2455e-03])\n",
      "∇W2 (gradiente pesos capa salida):\n",
      "tensor([[-0.0556, -0.0596, -0.0240, -0.0459]])\n",
      "∇b2 (gradiente bias capa salida):\n",
      "tensor([-0.0858])\n"
     ]
    }
   ],
   "source": [
    "# Limpiamos gradientes previos\n",
    "net.zero_grad() # importante porque en pytorch se acumulan\n",
    "\n",
    "# Calculamos loss\n",
    "loss = nn.MSELoss()(output, y)\n",
    "print(f\"Loss actual: {loss.item():.4f}\")\n",
    "\n",
    "print(\"\\nANTES del backward pass:\")\n",
    "print(\"Gradientes de los parámetros (deben ser None):\")\n",
    "print(f\"∇W1: {net.hidden.weight.grad}\")\n",
    "print(f\"∇b1: {net.hidden.bias.grad}\")\n",
    "print(f\"∇W2: {net.output.weight.grad}\")\n",
    "print(f\"∇b2: {net.output.bias.grad}\")\n",
    "\n",
    "loss.backward()\n",
    "\n",
    "print(\"\\nDESPUÉS del backward pass:\")\n",
    "print(\"Gradientes calculados automáticamente:\")\n",
    "print(f\"∇W1 (gradiente pesos capa oculta):\")\n",
    "print(net.hidden.weight.grad)\n",
    "print(f\"∇b1 (gradiente bias capa oculta):\")\n",
    "print(net.hidden.bias.grad)\n",
    "print(f\"∇W2 (gradiente pesos capa salida):\")\n",
    "print(net.output.weight.grad)\n",
    "print(f\"∇b2 (gradiente bias capa salida):\")\n",
    "print(net.output.bias.grad)"
   ]
  },
  {
   "cell_type": "markdown",
   "id": "fdf510dd",
   "metadata": {},
   "source": [
    "> Importante: **el gradiente indica la dirección en que AUMENTARÍA la pérdida**. Por lo tanto, para minimizar la pérdida, debemos movernos en la **dirección opuesta** al gradiente."
   ]
  },
  {
   "cell_type": "markdown",
   "id": "522a318e",
   "metadata": {},
   "source": [
    "## Actualización de los Pesos (manual)\n",
    "\n",
    "Ahora que tenemos los gradientes, podemos actualizar los pesos de tal manera que minimicemos la pérdida. Esto se hace restando un múltiplo del gradiente del peso actual.\n",
    "\n",
    "> Existen diferentes algoritmos de optimización que implementan el descenso de gradiente de manera más eficiente, como [Adam](https://docs.pytorch.org/docs/stable/generated/torch.optim.Adam.html)."
   ]
  },
  {
   "cell_type": "code",
   "execution_count": 12,
   "id": "5074fe2c",
   "metadata": {},
   "outputs": [
    {
     "name": "stdout",
     "output_type": "stream",
     "text": [
      "Pesos ANTES de actualizar:\n",
      "W1: Parameter containing:\n",
      "tensor([[ 0.7047, -0.0899],\n",
      "        [ 0.4470,  0.0388],\n",
      "        [-0.1904, -0.5857],\n",
      "        [ 0.4651,  0.3358]], requires_grad=True)\n",
      "b1: Parameter containing:\n",
      "tensor([ 0.3353,  0.5830, -0.5413, -0.2671], requires_grad=True)\n",
      "W2: Parameter containing:\n",
      "tensor([[-0.2826,  0.0004, -0.3152, -0.2397]], requires_grad=True)\n",
      "b2: Parameter containing:\n",
      "tensor([-0.4795], requires_grad=True)\n",
      "\n",
      "Usando learning rate: 0.5\n",
      "\n",
      "Pesos DESPUÉS de actualizar:\n",
      "W1: Parameter containing:\n",
      "tensor([[ 0.7035, -0.0916],\n",
      "        [ 0.4470,  0.0388],\n",
      "        [-0.1922, -0.5871],\n",
      "        [ 0.4638,  0.3344]], requires_grad=True)\n",
      "b1: Parameter containing:\n",
      "tensor([ 0.3327,  0.5830, -0.5440, -0.2697], requires_grad=True)\n",
      "W2: Parameter containing:\n",
      "tensor([[-0.2547,  0.0302, -0.3032, -0.2167]], requires_grad=True)\n",
      "b2: Parameter containing:\n",
      "tensor([-0.4366], requires_grad=True)\n"
     ]
    }
   ],
   "source": [
    "print(\"Pesos ANTES de actualizar:\")\n",
    "print(f\"W1: {net.hidden.weight}\")\n",
    "print(f\"b1: {net.hidden.bias}\")\n",
    "print(f\"W2: {net.output.weight}\")\n",
    "print(f\"b2: {net.output.bias}\")\n",
    "\n",
    "# Learning rate\n",
    "lr = 0.5\n",
    "print(f\"\\nUsando learning rate: {lr}\")\n",
    "\n",
    "# Actualizamos manualmente (Gradient Descent: param = param - lr * gradient)\n",
    "with torch.no_grad():  # No queremos tracking de gradientes aquí\n",
    "    net.hidden.weight -= lr * net.hidden.weight.grad\n",
    "    net.hidden.bias -= lr * net.hidden.bias.grad\n",
    "    net.output.weight -= lr * net.output.weight.grad\n",
    "    net.output.bias -= lr * net.output.bias.grad\n",
    "\n",
    "print(\"\\nPesos DESPUÉS de actualizar:\")\n",
    "print(f\"W1: {net.hidden.weight}\")\n",
    "print(f\"b1: {net.hidden.bias}\")\n",
    "print(f\"W2: {net.output.weight}\")\n",
    "print(f\"b2: {net.output.bias}\")"
   ]
  },
  {
   "cell_type": "markdown",
   "id": "ab2ec156",
   "metadata": {},
   "source": [
    "Ahora volvemos a calcular la pérdida y los gradientes después de la actualización de los pesos. Si vamos en un buena dirección debemos disminuir la loss."
   ]
  },
  {
   "cell_type": "code",
   "execution_count": 13,
   "id": "984c6e48",
   "metadata": {},
   "outputs": [
    {
     "name": "stdout",
     "output_type": "stream",
     "text": [
      "\n",
      "Loss anterior: 0.292699\n",
      "Loss nueva: 0.284551\n",
      "Cambio en loss: -0.008148\n"
     ]
    }
   ],
   "source": [
    "# Calculamos nueva loss\n",
    "net.zero_grad()\n",
    "new_outputs = net(X)\n",
    "new_loss = nn.MSELoss()(new_outputs, y)\n",
    "print(f\"\\nLoss anterior: {loss.item():.6f}\")\n",
    "print(f\"Loss nueva: {new_loss.item():.6f}\")\n",
    "print(f\"Cambio en loss: {new_loss.item() - loss.item():.6f}\")\n"
   ]
  },
  {
   "cell_type": "markdown",
   "id": "2011f788",
   "metadata": {},
   "source": [
    "## Actualización de los Pesos (optimizador)\n",
    "\n",
    "En general delegamos la actualización de los pesos a un optimizador. PyTorch ofrece varios optimizadores predefinidos en el módulo `torch.optim`, como SGD, Adam, RMSprop, entre otros."
   ]
  },
  {
   "cell_type": "code",
   "execution_count": 14,
   "id": "24f3673e",
   "metadata": {},
   "outputs": [],
   "source": [
    "# Creamos una nueva red para comparar\n",
    "net = SimpleXOR()\n",
    "# Creamos optimizador\n",
    "optimizer = optim.SGD(net.parameters(), lr=0.5)"
   ]
  },
  {
   "cell_type": "markdown",
   "id": "26e43de4",
   "metadata": {},
   "source": [
    "El optimizador maneja automáticamente:\n",
    "- Resetear los gradientes\n",
    "- Aplicar el algoritmo de optimización (por ejemplo, SGD) -> ajustar pesos\n",
    "\n",
    "Esto simplifica el proceso de entrenamiento y permite centrarse en la arquitectura del modelo y la preparación de los datos."
   ]
  },
  {
   "cell_type": "code",
   "execution_count": 15,
   "id": "0903bb70",
   "metadata": {},
   "outputs": [
    {
     "name": "stdout",
     "output_type": "stream",
     "text": [
      "Loss antes: 0.273621\n",
      "Loss después: 0.268689\n",
      "Cambio: -0.004932\n"
     ]
    }
   ],
   "source": [
    "optimizer.zero_grad()  # Limpia gradientes\n",
    "outputs = net(X)\n",
    "loss = nn.MSELoss()(outputs, y) # Calcula la pérdida con su grafo\n",
    "loss.backward()  # Calcula gradientes\n",
    "optimizer.step()  # Actualiza parámetros\n",
    "\n",
    "new_loss = nn.MSELoss()(net(X), y).item()\n",
    "\n",
    "print(f\"Loss antes: {loss:.6f}\")\n",
    "print(f\"Loss después: {new_loss:.6f}\")\n",
    "print(f\"Cambio: {new_loss - loss:.6f}\")"
   ]
  },
  {
   "cell_type": "markdown",
   "id": "286b17e8",
   "metadata": {},
   "source": [
    "## Entrenamiento completo (loop)\n",
    "\n",
    "Ahora combinamos todos los conceptos en un loop de entrenamiento completo. Repetimos el ciclo:\n",
    "1. **Forward pass** → calcular predicciones\n",
    "2. **Calcular loss** → medir error\n",
    "3. **Backward pass** → calcular gradientes  \n",
    "4. **Optimizer step** → actualizar parámetros"
   ]
  },
  {
   "cell_type": "code",
   "execution_count": 16,
   "id": "0fb1c17a",
   "metadata": {},
   "outputs": [
    {
     "name": "stdout",
     "output_type": "stream",
     "text": [
      "Entrenando por 1000 épocas...\n",
      "Época 0, Loss: 0.2609\n",
      "Época 500, Loss: 0.2499\n",
      "Época 1000, Loss: 0.2473\n",
      "Época 1500, Loss: 0.0615\n",
      "Época 2000, Loss: 0.0067\n",
      "Época 2500, Loss: 0.0029\n",
      "Época 3000, Loss: 0.0018\n",
      "Época 3500, Loss: 0.0012\n",
      "Época 4000, Loss: 0.0010\n",
      "Época 4500, Loss: 0.0008\n",
      "Época 5000, Loss: 0.0006\n",
      "Época 5500, Loss: 0.0005\n",
      "Época 6000, Loss: 0.0005\n",
      "Época 6500, Loss: 0.0004\n",
      "Época 7000, Loss: 0.0004\n",
      "Época 7500, Loss: 0.0003\n",
      "Época 8000, Loss: 0.0003\n",
      "Época 8500, Loss: 0.0003\n",
      "Época 9000, Loss: 0.0003\n",
      "Época 9500, Loss: 0.0002\n",
      "Loss final: 0.0002\n"
     ]
    }
   ],
   "source": [
    "net = SimpleXOR()\n",
    "optimizer = optim.SGD(net.parameters(), lr=1.0)\n",
    "criterion = nn.MSELoss()\n",
    "\n",
    "print(\"Entrenando por 1000 épocas...\")\n",
    "losses = []\n",
    "\n",
    "for epoch in range(10_000):\n",
    "    # Forward pass\n",
    "    outputs = net(X)\n",
    "    loss = criterion(outputs, y)\n",
    "    \n",
    "    # Backward pass y optimización\n",
    "    optimizer.zero_grad()\n",
    "    loss.backward()\n",
    "    optimizer.step()\n",
    "\n",
    "    # guardamos la pérdida para el análisis posterior\n",
    "    losses.append(loss.item())\n",
    "    \n",
    "    # Mostramos progreso cada 200 épocas\n",
    "    if epoch % 500 == 0:\n",
    "        print(f\"Época {epoch}, Loss: {loss.item():.4f}\")\n",
    "\n",
    "print(f\"Loss final: {losses[-1]:.4f}\")\n"
   ]
  },
  {
   "cell_type": "markdown",
   "id": "77ccbe5a",
   "metadata": {},
   "source": [
    "Graficamos la evolución de la pérdida durante el entrenamiento."
   ]
  },
  {
   "cell_type": "code",
   "execution_count": 17,
   "id": "e7b1e417",
   "metadata": {},
   "outputs": [
    {
     "data": {
      "image/png": "[encoded data removed]",
      "text/plain": [
       "<Figure size 1000x600 with 1 Axes>"
      ]
     },
     "metadata": {},
     "output_type": "display_data"
    }
   ],
   "source": [
    "plt.figure(figsize=(10, 6))\n",
    "plt.plot(losses)\n",
    "plt.title('Evolución de la Pérdida durante el Entrenamiento')\n",
    "plt.xlabel('Época')\n",
    "plt.ylabel('Loss (MSE)')\n",
    "plt.grid(True)\n",
    "plt.show()"
   ]
  },
  {
   "cell_type": "markdown",
   "id": "e09e1852",
   "metadata": {},
   "source": [
    "Por último, evaluamos el rendimiento de nuestro modelo en el conjunto de entrenamiento.\n",
    "\n",
    "> Tener en cuenta que definimos un umbral de 0.5 para clasificar las salidas. Si la salida es mayor que 0.5, la clasificamos como 1, de lo contrario, como 0."
   ]
  },
  {
   "cell_type": "code",
   "execution_count": 18,
   "id": "2c45110d",
   "metadata": {},
   "outputs": [
    {
     "name": "stdout",
     "output_type": "stream",
     "text": [
      "Entrada: tensor([0., 0.]), Esperado: tensor([0.]), Predicho: tensor([0.0097]) → tensor([0.])\n",
      "Entrada: tensor([0., 1.]), Esperado: tensor([1.]), Predicho: tensor([0.9852]) → tensor([1.])\n",
      "Entrada: tensor([1., 0.]), Esperado: tensor([1.]), Predicho: tensor([0.9845]) → tensor([1.])\n",
      "Entrada: tensor([1., 1.]), Esperado: tensor([0.]), Predicho: tensor([0.0185]) → tensor([0.])\n"
     ]
    }
   ],
   "source": [
    "with torch.no_grad():\n",
    "    final_outputs = net(X) # hacemos la inferencia (todos al mismo tiempo)\n",
    "    for i in range(len(X)): # separamos caso a caso para imprimir uno por linea\n",
    "        predicted = final_outputs[i] # la salida del caso\n",
    "        expected = y[i] # lo que se espera del caso\n",
    "        prediction_binary = torch.where(predicted > 0.5, 1., 0.) # la clasificación binaria\n",
    "        print(f\"Entrada: {X[i]}, Esperado: {expected}, Predicho: {predicted} → {prediction_binary}\") # comparamos"
   ]
  }
 ],
 "metadata": {
  "kernelspec": {
   "display_name": "Python 3",
   "language": "python",
   "name": "python3"
  },
  "language_info": {
   "codemirror_mode": {
    "name": "ipython",
    "version": 3
   },
   "file_extension": ".py",
   "mimetype": "text/x-python",
   "name": "python",
   "nbconvert_exporter": "python",
   "pygments_lexer": "ipython3",
   "version": "3.12.11"
  }
 },
 "nbformat": 4,
 "nbformat_minor": 5
}
